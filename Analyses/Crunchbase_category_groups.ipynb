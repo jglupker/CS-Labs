{
 "cells": [
  {
   "cell_type": "code",
   "execution_count": 61,
   "metadata": {},
   "outputs": [],
   "source": [
    "import numpy as np\n",
    "import pandas as pd\n",
    "import seaborn as sns\n",
    "from astropy.table import Table, Column\n",
    "import matplotlib.pyplot as plt\n",
    "%matplotlib inline\n",
    "pd.options.display.max_columns = 150\n",
    "pd.options.display.float_format = '{:.2f}'.format"
   ]
  },
  {
   "cell_type": "markdown",
   "metadata": {},
   "source": [
    "### Load, clean, merge data sets"
   ]
  },
  {
   "cell_type": "markdown",
   "metadata": {},
   "source": [
    "#### Load data specific to company EXITS"
   ]
  },
  {
   "cell_type": "code",
   "execution_count": 53,
   "metadata": {},
   "outputs": [
    {
     "data": {
      "text/html": [
       "<div>\n",
       "<style scoped>\n",
       "    .dataframe tbody tr th:only-of-type {\n",
       "        vertical-align: middle;\n",
       "    }\n",
       "\n",
       "    .dataframe tbody tr th {\n",
       "        vertical-align: top;\n",
       "    }\n",
       "\n",
       "    .dataframe thead th {\n",
       "        text-align: right;\n",
       "    }\n",
       "</style>\n",
       "<table border=\"1\" class=\"dataframe\">\n",
       "  <thead>\n",
       "    <tr style=\"text-align: right;\">\n",
       "      <th></th>\n",
       "      <th>id</th>\n",
       "      <th>object_id</th>\n",
       "      <th>name</th>\n",
       "      <th>status</th>\n",
       "      <th>founded_at</th>\n",
       "      <th>public_at</th>\n",
       "      <th>year_founded</th>\n",
       "      <th>days_to_exit</th>\n",
       "    </tr>\n",
       "  </thead>\n",
       "  <tbody>\n",
       "    <tr>\n",
       "      <th>0</th>\n",
       "      <td>c:1438</td>\n",
       "      <td>c:1438</td>\n",
       "      <td>Shutterfly</td>\n",
       "      <td>ipo</td>\n",
       "      <td>9/1/1999</td>\n",
       "      <td>9/29/2006</td>\n",
       "      <td>1999</td>\n",
       "      <td>2585</td>\n",
       "    </tr>\n",
       "    <tr>\n",
       "      <th>1</th>\n",
       "      <td>c:475</td>\n",
       "      <td>c:475</td>\n",
       "      <td>KIT digital</td>\n",
       "      <td>ipo</td>\n",
       "      <td>1/1/2008</td>\n",
       "      <td>7/27/2010</td>\n",
       "      <td>2008</td>\n",
       "      <td>938</td>\n",
       "    </tr>\n",
       "    <tr>\n",
       "      <th>2</th>\n",
       "      <td>c:108</td>\n",
       "      <td>c:108</td>\n",
       "      <td>blinkx</td>\n",
       "      <td>ipo</td>\n",
       "      <td>12/16/2004</td>\n",
       "      <td>6/22/2007</td>\n",
       "      <td>2004</td>\n",
       "      <td>918</td>\n",
       "    </tr>\n",
       "    <tr>\n",
       "      <th>3</th>\n",
       "      <td>c:4018</td>\n",
       "      <td>c:4018</td>\n",
       "      <td>Baidu</td>\n",
       "      <td>ipo</td>\n",
       "      <td>10/11/1999</td>\n",
       "      <td>8/5/2005</td>\n",
       "      <td>1999</td>\n",
       "      <td>2125</td>\n",
       "    </tr>\n",
       "    <tr>\n",
       "      <th>4</th>\n",
       "      <td>c:1972</td>\n",
       "      <td>c:1972</td>\n",
       "      <td>Salesforce</td>\n",
       "      <td>ipo</td>\n",
       "      <td>1/1/1999</td>\n",
       "      <td>7/2/2004</td>\n",
       "      <td>1999</td>\n",
       "      <td>2009</td>\n",
       "    </tr>\n",
       "  </tbody>\n",
       "</table>\n",
       "</div>"
      ],
      "text/plain": [
       "       id object_id         name status  founded_at  public_at  year_founded  \\\n",
       "0  c:1438    c:1438   Shutterfly    ipo    9/1/1999  9/29/2006          1999   \n",
       "1   c:475     c:475  KIT digital    ipo    1/1/2008  7/27/2010          2008   \n",
       "2   c:108     c:108       blinkx    ipo  12/16/2004  6/22/2007          2004   \n",
       "3  c:4018    c:4018        Baidu    ipo  10/11/1999   8/5/2005          1999   \n",
       "4  c:1972    c:1972   Salesforce    ipo    1/1/1999   7/2/2004          1999   \n",
       "\n",
       "   days_to_exit  \n",
       "0          2585  \n",
       "1           938  \n",
       "2           918  \n",
       "3          2125  \n",
       "4          2009  "
      ]
     },
     "execution_count": 53,
     "metadata": {},
     "output_type": "execute_result"
    }
   ],
   "source": [
    "df = pd.read_csv('company_exits.csv')\n",
    "df.head()"
   ]
  },
  {
   "cell_type": "markdown",
   "metadata": {},
   "source": [
    "##### Load total investment data frame"
   ]
  },
  {
   "cell_type": "code",
   "execution_count": 54,
   "metadata": {},
   "outputs": [
    {
     "data": {
      "text/html": [
       "<div>\n",
       "<style scoped>\n",
       "    .dataframe tbody tr th:only-of-type {\n",
       "        vertical-align: middle;\n",
       "    }\n",
       "\n",
       "    .dataframe tbody tr th {\n",
       "        vertical-align: top;\n",
       "    }\n",
       "\n",
       "    .dataframe thead th {\n",
       "        text-align: right;\n",
       "    }\n",
       "</style>\n",
       "<table border=\"1\" class=\"dataframe\">\n",
       "  <thead>\n",
       "    <tr style=\"text-align: right;\">\n",
       "      <th></th>\n",
       "      <th>funding_round_id</th>\n",
       "      <th>funded_object_id</th>\n",
       "      <th>funded_entity_type</th>\n",
       "      <th>funded_name</th>\n",
       "      <th>funded_category</th>\n",
       "      <th>funded_object_status</th>\n",
       "      <th>investor_object_id</th>\n",
       "      <th>investor_entity_type</th>\n",
       "      <th>investor_name</th>\n",
       "      <th>investor_category</th>\n",
       "      <th>investor_object_status</th>\n",
       "      <th>funded_at</th>\n",
       "      <th>funding_round_type</th>\n",
       "      <th>raised_amount_usd</th>\n",
       "      <th>pre_money_valuation_usd</th>\n",
       "      <th>post_money_valuation_usd</th>\n",
       "      <th>participants</th>\n",
       "      <th>is_first_round</th>\n",
       "      <th>is_last_round</th>\n",
       "      <th>funding_total_usd</th>\n",
       "      <th>funding_rounds</th>\n",
       "      <th>funded_year</th>\n",
       "    </tr>\n",
       "  </thead>\n",
       "  <tbody>\n",
       "    <tr>\n",
       "      <th>0</th>\n",
       "      <td>1</td>\n",
       "      <td>c:4</td>\n",
       "      <td>Company</td>\n",
       "      <td>Digg</td>\n",
       "      <td>news</td>\n",
       "      <td>acquired</td>\n",
       "      <td>f:1</td>\n",
       "      <td>FinancialOrg</td>\n",
       "      <td>Greylock Partners</td>\n",
       "      <td>NaN</td>\n",
       "      <td>operating</td>\n",
       "      <td>2006-12-01</td>\n",
       "      <td>series-b</td>\n",
       "      <td>8500000.00</td>\n",
       "      <td>nan</td>\n",
       "      <td>nan</td>\n",
       "      <td>2</td>\n",
       "      <td>0</td>\n",
       "      <td>0</td>\n",
       "      <td>45000000.00</td>\n",
       "      <td>4</td>\n",
       "      <td>2006</td>\n",
       "    </tr>\n",
       "    <tr>\n",
       "      <th>1</th>\n",
       "      <td>1</td>\n",
       "      <td>c:4</td>\n",
       "      <td>Company</td>\n",
       "      <td>Digg</td>\n",
       "      <td>news</td>\n",
       "      <td>acquired</td>\n",
       "      <td>f:2</td>\n",
       "      <td>FinancialOrg</td>\n",
       "      <td>Omidyar Network</td>\n",
       "      <td>NaN</td>\n",
       "      <td>operating</td>\n",
       "      <td>2006-12-01</td>\n",
       "      <td>series-b</td>\n",
       "      <td>8500000.00</td>\n",
       "      <td>nan</td>\n",
       "      <td>nan</td>\n",
       "      <td>2</td>\n",
       "      <td>0</td>\n",
       "      <td>0</td>\n",
       "      <td>45000000.00</td>\n",
       "      <td>4</td>\n",
       "      <td>2006</td>\n",
       "    </tr>\n",
       "    <tr>\n",
       "      <th>2</th>\n",
       "      <td>2</td>\n",
       "      <td>c:5</td>\n",
       "      <td>Company</td>\n",
       "      <td>Facebook</td>\n",
       "      <td>social</td>\n",
       "      <td>ipo</td>\n",
       "      <td>p:26</td>\n",
       "      <td>Person</td>\n",
       "      <td>Peter Thiel</td>\n",
       "      <td>NaN</td>\n",
       "      <td>operating</td>\n",
       "      <td>2004-09-01</td>\n",
       "      <td>angel</td>\n",
       "      <td>500000.00</td>\n",
       "      <td>nan</td>\n",
       "      <td>nan</td>\n",
       "      <td>2</td>\n",
       "      <td>0</td>\n",
       "      <td>1</td>\n",
       "      <td>2425700000.00</td>\n",
       "      <td>11</td>\n",
       "      <td>2004</td>\n",
       "    </tr>\n",
       "    <tr>\n",
       "      <th>3</th>\n",
       "      <td>2</td>\n",
       "      <td>c:5</td>\n",
       "      <td>Company</td>\n",
       "      <td>Facebook</td>\n",
       "      <td>social</td>\n",
       "      <td>ipo</td>\n",
       "      <td>p:570</td>\n",
       "      <td>Person</td>\n",
       "      <td>Reid Hoffman</td>\n",
       "      <td>NaN</td>\n",
       "      <td>operating</td>\n",
       "      <td>2004-09-01</td>\n",
       "      <td>angel</td>\n",
       "      <td>500000.00</td>\n",
       "      <td>nan</td>\n",
       "      <td>nan</td>\n",
       "      <td>2</td>\n",
       "      <td>0</td>\n",
       "      <td>1</td>\n",
       "      <td>2425700000.00</td>\n",
       "      <td>11</td>\n",
       "      <td>2004</td>\n",
       "    </tr>\n",
       "    <tr>\n",
       "      <th>4</th>\n",
       "      <td>3</td>\n",
       "      <td>c:5</td>\n",
       "      <td>Company</td>\n",
       "      <td>Facebook</td>\n",
       "      <td>social</td>\n",
       "      <td>ipo</td>\n",
       "      <td>f:4</td>\n",
       "      <td>FinancialOrg</td>\n",
       "      <td>Accel Partners</td>\n",
       "      <td>NaN</td>\n",
       "      <td>operating</td>\n",
       "      <td>2005-05-01</td>\n",
       "      <td>series-a</td>\n",
       "      <td>12700000.00</td>\n",
       "      <td>115000000.00</td>\n",
       "      <td>nan</td>\n",
       "      <td>3</td>\n",
       "      <td>0</td>\n",
       "      <td>0</td>\n",
       "      <td>2425700000.00</td>\n",
       "      <td>11</td>\n",
       "      <td>2005</td>\n",
       "    </tr>\n",
       "  </tbody>\n",
       "</table>\n",
       "</div>"
      ],
      "text/plain": [
       "   funding_round_id funded_object_id funded_entity_type funded_name  \\\n",
       "0                 1              c:4            Company        Digg   \n",
       "1                 1              c:4            Company        Digg   \n",
       "2                 2              c:5            Company    Facebook   \n",
       "3                 2              c:5            Company    Facebook   \n",
       "4                 3              c:5            Company    Facebook   \n",
       "\n",
       "  funded_category funded_object_status investor_object_id  \\\n",
       "0            news             acquired                f:1   \n",
       "1            news             acquired                f:2   \n",
       "2          social                  ipo               p:26   \n",
       "3          social                  ipo              p:570   \n",
       "4          social                  ipo                f:4   \n",
       "\n",
       "  investor_entity_type      investor_name investor_category  \\\n",
       "0         FinancialOrg  Greylock Partners               NaN   \n",
       "1         FinancialOrg    Omidyar Network               NaN   \n",
       "2               Person        Peter Thiel               NaN   \n",
       "3               Person       Reid Hoffman               NaN   \n",
       "4         FinancialOrg     Accel Partners               NaN   \n",
       "\n",
       "  investor_object_status   funded_at funding_round_type  raised_amount_usd  \\\n",
       "0              operating  2006-12-01           series-b         8500000.00   \n",
       "1              operating  2006-12-01           series-b         8500000.00   \n",
       "2              operating  2004-09-01              angel          500000.00   \n",
       "3              operating  2004-09-01              angel          500000.00   \n",
       "4              operating  2005-05-01           series-a        12700000.00   \n",
       "\n",
       "   pre_money_valuation_usd  post_money_valuation_usd  participants  \\\n",
       "0                      nan                       nan             2   \n",
       "1                      nan                       nan             2   \n",
       "2                      nan                       nan             2   \n",
       "3                      nan                       nan             2   \n",
       "4             115000000.00                       nan             3   \n",
       "\n",
       "   is_first_round  is_last_round  funding_total_usd  funding_rounds  \\\n",
       "0               0              0        45000000.00               4   \n",
       "1               0              0        45000000.00               4   \n",
       "2               0              1      2425700000.00              11   \n",
       "3               0              1      2425700000.00              11   \n",
       "4               0              0      2425700000.00              11   \n",
       "\n",
       "  funded_year  \n",
       "0        2006  \n",
       "1        2006  \n",
       "2        2004  \n",
       "3        2004  \n",
       "4        2005  "
      ]
     },
     "execution_count": 54,
     "metadata": {},
     "output_type": "execute_result"
    }
   ],
   "source": [
    "inv = pd.read_csv('investment.csv', encoding='latin')\n",
    "inv['funded_year'] = inv.funded_at.str[:4]\n",
    "inv.head()"
   ]
  },
  {
   "cell_type": "markdown",
   "metadata": {},
   "source": [
    "##### Subset total investment data to only companies that exited in the given years, to add total funding amount to first data frame"
   ]
  },
  {
   "cell_type": "code",
   "execution_count": 55,
   "metadata": {},
   "outputs": [
    {
     "data": {
      "text/html": [
       "<div>\n",
       "<style scoped>\n",
       "    .dataframe tbody tr th:only-of-type {\n",
       "        vertical-align: middle;\n",
       "    }\n",
       "\n",
       "    .dataframe tbody tr th {\n",
       "        vertical-align: top;\n",
       "    }\n",
       "\n",
       "    .dataframe thead th {\n",
       "        text-align: right;\n",
       "    }\n",
       "</style>\n",
       "<table border=\"1\" class=\"dataframe\">\n",
       "  <thead>\n",
       "    <tr style=\"text-align: right;\">\n",
       "      <th></th>\n",
       "      <th>funded_year</th>\n",
       "      <th>funded_name</th>\n",
       "      <th>funding_total_usd</th>\n",
       "    </tr>\n",
       "  </thead>\n",
       "  <tbody>\n",
       "    <tr>\n",
       "      <th>18</th>\n",
       "      <td>1999</td>\n",
       "      <td>ACTIVE Network</td>\n",
       "      <td>219378750.00</td>\n",
       "    </tr>\n",
       "    <tr>\n",
       "      <th>19</th>\n",
       "      <td>1999</td>\n",
       "      <td>Affinity.com</td>\n",
       "      <td>85000000.00</td>\n",
       "    </tr>\n",
       "    <tr>\n",
       "      <th>20</th>\n",
       "      <td>1999</td>\n",
       "      <td>Ancestry</td>\n",
       "      <td>333200000.00</td>\n",
       "    </tr>\n",
       "    <tr>\n",
       "      <th>21</th>\n",
       "      <td>1999</td>\n",
       "      <td>Answers Corporation</td>\n",
       "      <td>45410000.00</td>\n",
       "    </tr>\n",
       "    <tr>\n",
       "      <th>22</th>\n",
       "      <td>1999</td>\n",
       "      <td>Ask.com</td>\n",
       "      <td>25000000.00</td>\n",
       "    </tr>\n",
       "    <tr>\n",
       "      <th>24</th>\n",
       "      <td>1999</td>\n",
       "      <td>Direct Hit</td>\n",
       "      <td>26000000.00</td>\n",
       "    </tr>\n",
       "    <tr>\n",
       "      <th>25</th>\n",
       "      <td>1999</td>\n",
       "      <td>GasBuddy</td>\n",
       "      <td>4000.00</td>\n",
       "    </tr>\n",
       "    <tr>\n",
       "      <th>26</th>\n",
       "      <td>1999</td>\n",
       "      <td>Google</td>\n",
       "      <td>25100000.00</td>\n",
       "    </tr>\n",
       "    <tr>\n",
       "      <th>27</th>\n",
       "      <td>1999</td>\n",
       "      <td>Hipbone</td>\n",
       "      <td>750000.00</td>\n",
       "    </tr>\n",
       "    <tr>\n",
       "      <th>28</th>\n",
       "      <td>1999</td>\n",
       "      <td>Kelkoo</td>\n",
       "      <td>3000000.00</td>\n",
       "    </tr>\n",
       "    <tr>\n",
       "      <th>29</th>\n",
       "      <td>1999</td>\n",
       "      <td>Netflix</td>\n",
       "      <td>230000000.00</td>\n",
       "    </tr>\n",
       "    <tr>\n",
       "      <th>30</th>\n",
       "      <td>1999</td>\n",
       "      <td>OpenTable</td>\n",
       "      <td>48000000.00</td>\n",
       "    </tr>\n",
       "    <tr>\n",
       "      <th>31</th>\n",
       "      <td>1999</td>\n",
       "      <td>Opsware</td>\n",
       "      <td>186000000.00</td>\n",
       "    </tr>\n",
       "    <tr>\n",
       "      <th>32</th>\n",
       "      <td>1999</td>\n",
       "      <td>PayPal</td>\n",
       "      <td>197000000.00</td>\n",
       "    </tr>\n",
       "    <tr>\n",
       "      <th>33</th>\n",
       "      <td>1999</td>\n",
       "      <td>Salesforce</td>\n",
       "      <td>99916337.00</td>\n",
       "    </tr>\n",
       "  </tbody>\n",
       "</table>\n",
       "</div>"
      ],
      "text/plain": [
       "   funded_year          funded_name  funding_total_usd\n",
       "18        1999       ACTIVE Network       219378750.00\n",
       "19        1999         Affinity.com        85000000.00\n",
       "20        1999             Ancestry       333200000.00\n",
       "21        1999  Answers Corporation        45410000.00\n",
       "22        1999              Ask.com        25000000.00\n",
       "24        1999           Direct Hit        26000000.00\n",
       "25        1999             GasBuddy            4000.00\n",
       "26        1999               Google        25100000.00\n",
       "27        1999              Hipbone          750000.00\n",
       "28        1999               Kelkoo         3000000.00\n",
       "29        1999              Netflix       230000000.00\n",
       "30        1999            OpenTable        48000000.00\n",
       "31        1999              Opsware       186000000.00\n",
       "32        1999               PayPal       197000000.00\n",
       "33        1999           Salesforce        99916337.00"
      ]
     },
     "execution_count": 55,
     "metadata": {},
     "output_type": "execute_result"
    }
   ],
   "source": [
    "df2 = inv[(inv.funded_object_status == 'acquired') | (inv.funded_object_status == 'ipo')].groupby(['funded_year','funded_name'],as_index=False).agg({'funding_total_usd':'mean'})\n",
    "df2.drop_duplicates(inplace=True)\n",
    "df2.dropna(inplace=True)\n",
    "df2 = df2[(df2.funded_year != '1987') & (df2.funded_year != '1995') &\n",
    "          (df2.funded_year != '1996') & (df2.funded_year != '1997') &\n",
    "          (df2.funded_year != '1998')]\n",
    "df2.head(15)"
   ]
  },
  {
   "cell_type": "markdown",
   "metadata": {},
   "source": [
    "##### This has duplicates, since a company can receive funding in multiple years.  Need to remove year and de-duplicate"
   ]
  },
  {
   "cell_type": "code",
   "execution_count": 56,
   "metadata": {},
   "outputs": [
    {
     "data": {
      "text/html": [
       "<div>\n",
       "<style scoped>\n",
       "    .dataframe tbody tr th:only-of-type {\n",
       "        vertical-align: middle;\n",
       "    }\n",
       "\n",
       "    .dataframe tbody tr th {\n",
       "        vertical-align: top;\n",
       "    }\n",
       "\n",
       "    .dataframe thead th {\n",
       "        text-align: right;\n",
       "    }\n",
       "</style>\n",
       "<table border=\"1\" class=\"dataframe\">\n",
       "  <thead>\n",
       "    <tr style=\"text-align: right;\">\n",
       "      <th></th>\n",
       "      <th>funded_name</th>\n",
       "      <th>funding_total_usd</th>\n",
       "    </tr>\n",
       "  </thead>\n",
       "  <tbody>\n",
       "    <tr>\n",
       "      <th>18</th>\n",
       "      <td>ACTIVE Network</td>\n",
       "      <td>219378750.00</td>\n",
       "    </tr>\n",
       "    <tr>\n",
       "      <th>19</th>\n",
       "      <td>Affinity.com</td>\n",
       "      <td>85000000.00</td>\n",
       "    </tr>\n",
       "    <tr>\n",
       "      <th>20</th>\n",
       "      <td>Ancestry</td>\n",
       "      <td>333200000.00</td>\n",
       "    </tr>\n",
       "    <tr>\n",
       "      <th>21</th>\n",
       "      <td>Answers Corporation</td>\n",
       "      <td>45410000.00</td>\n",
       "    </tr>\n",
       "    <tr>\n",
       "      <th>22</th>\n",
       "      <td>Ask.com</td>\n",
       "      <td>25000000.00</td>\n",
       "    </tr>\n",
       "  </tbody>\n",
       "</table>\n",
       "</div>"
      ],
      "text/plain": [
       "            funded_name  funding_total_usd\n",
       "18       ACTIVE Network       219378750.00\n",
       "19         Affinity.com        85000000.00\n",
       "20             Ancestry       333200000.00\n",
       "21  Answers Corporation        45410000.00\n",
       "22              Ask.com        25000000.00"
      ]
     },
     "execution_count": 56,
     "metadata": {},
     "output_type": "execute_result"
    }
   ],
   "source": [
    "df2 = df2.iloc[:,1:]\n",
    "df2.drop_duplicates(inplace=True)\n",
    "df2.head()"
   ]
  },
  {
   "cell_type": "markdown",
   "metadata": {},
   "source": [
    "##### Merge data to include funding totals, and check to make sure lengths are the same"
   ]
  },
  {
   "cell_type": "code",
   "execution_count": 57,
   "metadata": {},
   "outputs": [
    {
     "name": "stdout",
     "output_type": "stream",
     "text": [
      "3640\n",
      "3640\n"
     ]
    }
   ],
   "source": [
    "exitdata = pd.merge(df, df2, how='left',left_on='name',right_on='funded_name')\n",
    "exitdata.drop('funded_name', axis=1, inplace=True)\n",
    "print(len(exitdata))\n",
    "print(len(df))"
   ]
  },
  {
   "cell_type": "code",
   "execution_count": 69,
   "metadata": {},
   "outputs": [
    {
     "data": {
      "text/html": [
       "<div>\n",
       "<style scoped>\n",
       "    .dataframe tbody tr th:only-of-type {\n",
       "        vertical-align: middle;\n",
       "    }\n",
       "\n",
       "    .dataframe tbody tr th {\n",
       "        vertical-align: top;\n",
       "    }\n",
       "\n",
       "    .dataframe thead th {\n",
       "        text-align: right;\n",
       "    }\n",
       "</style>\n",
       "<table border=\"1\" class=\"dataframe\">\n",
       "  <thead>\n",
       "    <tr style=\"text-align: right;\">\n",
       "      <th></th>\n",
       "      <th>id</th>\n",
       "      <th>object_id</th>\n",
       "      <th>name</th>\n",
       "      <th>status</th>\n",
       "      <th>founded_at</th>\n",
       "      <th>public_at</th>\n",
       "      <th>year_founded</th>\n",
       "      <th>days_to_exit</th>\n",
       "      <th>funding_total_usd</th>\n",
       "    </tr>\n",
       "  </thead>\n",
       "  <tbody>\n",
       "    <tr>\n",
       "      <th>0</th>\n",
       "      <td>c:1438</td>\n",
       "      <td>c:1438</td>\n",
       "      <td>Shutterfly</td>\n",
       "      <td>ipo</td>\n",
       "      <td>9/1/1999</td>\n",
       "      <td>9/29/2006</td>\n",
       "      <td>1999</td>\n",
       "      <td>2585</td>\n",
       "      <td>0.00</td>\n",
       "    </tr>\n",
       "    <tr>\n",
       "      <th>1</th>\n",
       "      <td>c:475</td>\n",
       "      <td>c:475</td>\n",
       "      <td>KIT digital</td>\n",
       "      <td>ipo</td>\n",
       "      <td>1/1/2008</td>\n",
       "      <td>7/27/2010</td>\n",
       "      <td>2008</td>\n",
       "      <td>938</td>\n",
       "      <td>20000000.00</td>\n",
       "    </tr>\n",
       "    <tr>\n",
       "      <th>2</th>\n",
       "      <td>c:108</td>\n",
       "      <td>c:108</td>\n",
       "      <td>blinkx</td>\n",
       "      <td>ipo</td>\n",
       "      <td>12/16/2004</td>\n",
       "      <td>6/22/2007</td>\n",
       "      <td>2004</td>\n",
       "      <td>918</td>\n",
       "      <td>0.00</td>\n",
       "    </tr>\n",
       "    <tr>\n",
       "      <th>3</th>\n",
       "      <td>c:4018</td>\n",
       "      <td>c:4018</td>\n",
       "      <td>Baidu</td>\n",
       "      <td>ipo</td>\n",
       "      <td>10/11/1999</td>\n",
       "      <td>8/5/2005</td>\n",
       "      <td>1999</td>\n",
       "      <td>2125</td>\n",
       "      <td>150000000.00</td>\n",
       "    </tr>\n",
       "    <tr>\n",
       "      <th>4</th>\n",
       "      <td>c:1972</td>\n",
       "      <td>c:1972</td>\n",
       "      <td>Salesforce</td>\n",
       "      <td>ipo</td>\n",
       "      <td>1/1/1999</td>\n",
       "      <td>7/2/2004</td>\n",
       "      <td>1999</td>\n",
       "      <td>2009</td>\n",
       "      <td>99916337.00</td>\n",
       "    </tr>\n",
       "  </tbody>\n",
       "</table>\n",
       "</div>"
      ],
      "text/plain": [
       "       id object_id         name status  founded_at  public_at  year_founded  \\\n",
       "0  c:1438    c:1438   Shutterfly    ipo    9/1/1999  9/29/2006          1999   \n",
       "1   c:475     c:475  KIT digital    ipo    1/1/2008  7/27/2010          2008   \n",
       "2   c:108     c:108       blinkx    ipo  12/16/2004  6/22/2007          2004   \n",
       "3  c:4018    c:4018        Baidu    ipo  10/11/1999   8/5/2005          1999   \n",
       "4  c:1972    c:1972   Salesforce    ipo    1/1/1999   7/2/2004          1999   \n",
       "\n",
       "   days_to_exit  funding_total_usd  \n",
       "0          2585               0.00  \n",
       "1           938        20000000.00  \n",
       "2           918               0.00  \n",
       "3          2125       150000000.00  \n",
       "4          2009        99916337.00  "
      ]
     },
     "execution_count": 69,
     "metadata": {},
     "output_type": "execute_result"
    }
   ],
   "source": [
    "exitdata.funding_total_usd.fillna(0, inplace=True)\n",
    "exitdata.head()"
   ]
  },
  {
   "cell_type": "code",
   "execution_count": 80,
   "metadata": {},
   "outputs": [],
   "source": [
    "exitdata2 = exitdata[exitdata.funding_total_usd > 0]"
   ]
  },
  {
   "cell_type": "markdown",
   "metadata": {},
   "source": [
    "#### Load data specific to company CLOSURES (already has funding amount included)"
   ]
  },
  {
   "cell_type": "code",
   "execution_count": 59,
   "metadata": {},
   "outputs": [
    {
     "data": {
      "text/html": [
       "<div>\n",
       "<style scoped>\n",
       "    .dataframe tbody tr th:only-of-type {\n",
       "        vertical-align: middle;\n",
       "    }\n",
       "\n",
       "    .dataframe tbody tr th {\n",
       "        vertical-align: top;\n",
       "    }\n",
       "\n",
       "    .dataframe thead th {\n",
       "        text-align: right;\n",
       "    }\n",
       "</style>\n",
       "<table border=\"1\" class=\"dataframe\">\n",
       "  <thead>\n",
       "    <tr style=\"text-align: right;\">\n",
       "      <th></th>\n",
       "      <th>id</th>\n",
       "      <th>name</th>\n",
       "      <th>status</th>\n",
       "      <th>founded_year</th>\n",
       "      <th>founded_at</th>\n",
       "      <th>closed_at</th>\n",
       "      <th>funding_total_usd</th>\n",
       "      <th>days_to_close</th>\n",
       "    </tr>\n",
       "  </thead>\n",
       "  <tbody>\n",
       "    <tr>\n",
       "      <th>0</th>\n",
       "      <td>c:36642</td>\n",
       "      <td>Industriaplex</td>\n",
       "      <td>closed</td>\n",
       "      <td>1999</td>\n",
       "      <td>1/1/1999</td>\n",
       "      <td>3/13/2010</td>\n",
       "      <td>0</td>\n",
       "      <td>4089</td>\n",
       "    </tr>\n",
       "    <tr>\n",
       "      <th>1</th>\n",
       "      <td>c:1172</td>\n",
       "      <td>InstantAction</td>\n",
       "      <td>closed</td>\n",
       "      <td>1999</td>\n",
       "      <td>1/1/1999</td>\n",
       "      <td>11/12/2010</td>\n",
       "      <td>50000000</td>\n",
       "      <td>4333</td>\n",
       "    </tr>\n",
       "    <tr>\n",
       "      <th>2</th>\n",
       "      <td>c:46155</td>\n",
       "      <td>Cytheris</td>\n",
       "      <td>closed</td>\n",
       "      <td>1999</td>\n",
       "      <td>1/1/1999</td>\n",
       "      <td>9/14/2013</td>\n",
       "      <td>45700000</td>\n",
       "      <td>5370</td>\n",
       "    </tr>\n",
       "    <tr>\n",
       "      <th>3</th>\n",
       "      <td>c:31549</td>\n",
       "      <td>Paracor Medical</td>\n",
       "      <td>closed</td>\n",
       "      <td>1999</td>\n",
       "      <td>1/1/1999</td>\n",
       "      <td>6/17/2012</td>\n",
       "      <td>44000000</td>\n",
       "      <td>4916</td>\n",
       "    </tr>\n",
       "    <tr>\n",
       "      <th>4</th>\n",
       "      <td>c:31488</td>\n",
       "      <td>Roxro Pharma</td>\n",
       "      <td>closed</td>\n",
       "      <td>1999</td>\n",
       "      <td>1/1/1999</td>\n",
       "      <td>1/1/2001</td>\n",
       "      <td>42700000</td>\n",
       "      <td>731</td>\n",
       "    </tr>\n",
       "  </tbody>\n",
       "</table>\n",
       "</div>"
      ],
      "text/plain": [
       "        id             name  status  founded_year founded_at   closed_at  \\\n",
       "0  c:36642    Industriaplex  closed          1999   1/1/1999   3/13/2010   \n",
       "1   c:1172    InstantAction  closed          1999   1/1/1999  11/12/2010   \n",
       "2  c:46155         Cytheris  closed          1999   1/1/1999   9/14/2013   \n",
       "3  c:31549  Paracor Medical  closed          1999   1/1/1999   6/17/2012   \n",
       "4  c:31488     Roxro Pharma  closed          1999   1/1/1999    1/1/2001   \n",
       "\n",
       "   funding_total_usd  days_to_close  \n",
       "0                  0           4089  \n",
       "1           50000000           4333  \n",
       "2           45700000           5370  \n",
       "3           44000000           4916  \n",
       "4           42700000            731  "
      ]
     },
     "execution_count": 59,
     "metadata": {},
     "output_type": "execute_result"
    }
   ],
   "source": [
    "closed = pd.read_csv('closed_dates.csv')\n",
    "closed.head()"
   ]
  },
  {
   "cell_type": "code",
   "execution_count": 85,
   "metadata": {},
   "outputs": [
    {
     "data": {
      "text/html": [
       "<div>\n",
       "<style scoped>\n",
       "    .dataframe tbody tr th:only-of-type {\n",
       "        vertical-align: middle;\n",
       "    }\n",
       "\n",
       "    .dataframe tbody tr th {\n",
       "        vertical-align: top;\n",
       "    }\n",
       "\n",
       "    .dataframe thead th {\n",
       "        text-align: right;\n",
       "    }\n",
       "</style>\n",
       "<table border=\"1\" class=\"dataframe\">\n",
       "  <thead>\n",
       "    <tr style=\"text-align: right;\">\n",
       "      <th></th>\n",
       "      <th>year</th>\n",
       "      <th>companies</th>\n",
       "      <th>closed</th>\n",
       "      <th>closed_pct</th>\n",
       "      <th>exited</th>\n",
       "      <th>exited_pct</th>\n",
       "    </tr>\n",
       "  </thead>\n",
       "  <tbody>\n",
       "    <tr>\n",
       "      <th>0</th>\n",
       "      <td>1999</td>\n",
       "      <td>2236</td>\n",
       "      <td>30</td>\n",
       "      <td>0.01</td>\n",
       "      <td>351</td>\n",
       "      <td>0.16</td>\n",
       "    </tr>\n",
       "    <tr>\n",
       "      <th>1</th>\n",
       "      <td>2000</td>\n",
       "      <td>2544</td>\n",
       "      <td>41</td>\n",
       "      <td>0.02</td>\n",
       "      <td>292</td>\n",
       "      <td>0.11</td>\n",
       "    </tr>\n",
       "    <tr>\n",
       "      <th>2</th>\n",
       "      <td>2001</td>\n",
       "      <td>2279</td>\n",
       "      <td>28</td>\n",
       "      <td>0.01</td>\n",
       "      <td>262</td>\n",
       "      <td>0.11</td>\n",
       "    </tr>\n",
       "    <tr>\n",
       "      <th>3</th>\n",
       "      <td>2002</td>\n",
       "      <td>2205</td>\n",
       "      <td>37</td>\n",
       "      <td>0.02</td>\n",
       "      <td>257</td>\n",
       "      <td>0.12</td>\n",
       "    </tr>\n",
       "    <tr>\n",
       "      <th>4</th>\n",
       "      <td>2003</td>\n",
       "      <td>2479</td>\n",
       "      <td>59</td>\n",
       "      <td>0.02</td>\n",
       "      <td>234</td>\n",
       "      <td>0.09</td>\n",
       "    </tr>\n",
       "    <tr>\n",
       "      <th>5</th>\n",
       "      <td>2004</td>\n",
       "      <td>2828</td>\n",
       "      <td>73</td>\n",
       "      <td>0.03</td>\n",
       "      <td>255</td>\n",
       "      <td>0.09</td>\n",
       "    </tr>\n",
       "    <tr>\n",
       "      <th>6</th>\n",
       "      <td>2005</td>\n",
       "      <td>3580</td>\n",
       "      <td>95</td>\n",
       "      <td>0.03</td>\n",
       "      <td>285</td>\n",
       "      <td>0.08</td>\n",
       "    </tr>\n",
       "    <tr>\n",
       "      <th>7</th>\n",
       "      <td>2006</td>\n",
       "      <td>4689</td>\n",
       "      <td>169</td>\n",
       "      <td>0.04</td>\n",
       "      <td>321</td>\n",
       "      <td>0.07</td>\n",
       "    </tr>\n",
       "    <tr>\n",
       "      <th>8</th>\n",
       "      <td>2007</td>\n",
       "      <td>6765</td>\n",
       "      <td>291</td>\n",
       "      <td>0.04</td>\n",
       "      <td>331</td>\n",
       "      <td>0.05</td>\n",
       "    </tr>\n",
       "    <tr>\n",
       "      <th>9</th>\n",
       "      <td>2008</td>\n",
       "      <td>8502</td>\n",
       "      <td>288</td>\n",
       "      <td>0.03</td>\n",
       "      <td>296</td>\n",
       "      <td>0.03</td>\n",
       "    </tr>\n",
       "    <tr>\n",
       "      <th>10</th>\n",
       "      <td>2009</td>\n",
       "      <td>9805</td>\n",
       "      <td>303</td>\n",
       "      <td>0.03</td>\n",
       "      <td>269</td>\n",
       "      <td>0.03</td>\n",
       "    </tr>\n",
       "    <tr>\n",
       "      <th>11</th>\n",
       "      <td>2010</td>\n",
       "      <td>10858</td>\n",
       "      <td>292</td>\n",
       "      <td>0.03</td>\n",
       "      <td>249</td>\n",
       "      <td>0.02</td>\n",
       "    </tr>\n",
       "    <tr>\n",
       "      <th>12</th>\n",
       "      <td>2011</td>\n",
       "      <td>11884</td>\n",
       "      <td>231</td>\n",
       "      <td>0.02</td>\n",
       "      <td>199</td>\n",
       "      <td>0.02</td>\n",
       "    </tr>\n",
       "    <tr>\n",
       "      <th>13</th>\n",
       "      <td>2012</td>\n",
       "      <td>11158</td>\n",
       "      <td>87</td>\n",
       "      <td>0.01</td>\n",
       "      <td>80</td>\n",
       "      <td>0.01</td>\n",
       "    </tr>\n",
       "    <tr>\n",
       "      <th>14</th>\n",
       "      <td>2013</td>\n",
       "      <td>6280</td>\n",
       "      <td>23</td>\n",
       "      <td>0.00</td>\n",
       "      <td>15</td>\n",
       "      <td>0.00</td>\n",
       "    </tr>\n",
       "  </tbody>\n",
       "</table>\n",
       "</div>"
      ],
      "text/plain": [
       "    year  companies  closed  closed_pct  exited  exited_pct\n",
       "0   1999       2236      30        0.01     351        0.16\n",
       "1   2000       2544      41        0.02     292        0.11\n",
       "2   2001       2279      28        0.01     262        0.11\n",
       "3   2002       2205      37        0.02     257        0.12\n",
       "4   2003       2479      59        0.02     234        0.09\n",
       "5   2004       2828      73        0.03     255        0.09\n",
       "6   2005       3580      95        0.03     285        0.08\n",
       "7   2006       4689     169        0.04     321        0.07\n",
       "8   2007       6765     291        0.04     331        0.05\n",
       "9   2008       8502     288        0.03     296        0.03\n",
       "10  2009       9805     303        0.03     269        0.03\n",
       "11  2010      10858     292        0.03     249        0.02\n",
       "12  2011      11884     231        0.02     199        0.02\n",
       "13  2012      11158      87        0.01      80        0.01\n",
       "14  2013       6280      23        0.00      15        0.00"
      ]
     },
     "execution_count": 85,
     "metadata": {},
     "output_type": "execute_result"
    }
   ],
   "source": [
    "yearstats = pd.read_csv('yearly_stats.csv')\n",
    "yearstats"
   ]
  },
  {
   "cell_type": "markdown",
   "metadata": {},
   "source": [
    "## Visuals & Tables"
   ]
  },
  {
   "cell_type": "markdown",
   "metadata": {},
   "source": [
    "#### % of closed and exited companies, trended by year"
   ]
  },
  {
   "cell_type": "code",
   "execution_count": 90,
   "metadata": {},
   "outputs": [
    {
     "data": {
      "text/plain": [
       "<matplotlib.legend.Legend at 0x29c8624ab70>"
      ]
     },
     "execution_count": 90,
     "metadata": {},
     "output_type": "execute_result"
    },
    {
     "data": {
      "image/png": "[encoded data removed]",
      "text/plain": [
       "<Figure size 576x432 with 1 Axes>"
      ]
     },
     "metadata": {},
     "output_type": "display_data"
    }
   ],
   "source": [
    "plt.figure(figsize = (8,6))\n",
    "plt.plot('year','closed_pct', data=yearstats)\n",
    "plt.plot('year','exited_pct', data=yearstats)\n",
    "plt.legend()"
   ]
  },
  {
   "cell_type": "markdown",
   "metadata": {},
   "source": [
    "#### Number of closed and exited companies, by year"
   ]
  },
  {
   "cell_type": "code",
   "execution_count": 91,
   "metadata": {},
   "outputs": [
    {
     "data": {
      "text/plain": [
       "<matplotlib.legend.Legend at 0x29c862b9860>"
      ]
     },
     "execution_count": 91,
     "metadata": {},
     "output_type": "execute_result"
    },
    {
     "data": {
      "image/png": "[encoded data removed]",
      "text/plain": [
       "<Figure size 576x432 with 1 Axes>"
      ]
     },
     "metadata": {},
     "output_type": "display_data"
    }
   ],
   "source": [
    "plt.figure(figsize = (8,6))\n",
    "plt.plot('year','closed', data=yearstats)\n",
    "plt.plot('year','exited', data=yearstats)\n",
    "plt.legend()"
   ]
  },
  {
   "cell_type": "markdown",
   "metadata": {},
   "source": [
    "#### Number of startups founded, by year"
   ]
  },
  {
   "cell_type": "code",
   "execution_count": 95,
   "metadata": {},
   "outputs": [
    {
     "data": {
      "text/plain": [
       "<BarContainer object of 15 artists>"
      ]
     },
     "execution_count": 95,
     "metadata": {},
     "output_type": "execute_result"
    },
    {
     "data": {
      "image/png": "[encoded data removed]",
      "text/plain": [
       "<Figure size 576x432 with 1 Axes>"
      ]
     },
     "metadata": {},
     "output_type": "display_data"
    }
   ],
   "source": [
    "plt.figure(figsize = (8,6))\n",
    "plt.bar('year','companies', data=yearstats)"
   ]
  },
  {
   "cell_type": "markdown",
   "metadata": {},
   "source": [
    "#### Find min/max/mean days to exit and close, for each year"
   ]
  },
  {
   "cell_type": "code",
   "execution_count": 79,
   "metadata": {},
   "outputs": [
    {
     "name": "stdout",
     "output_type": "stream",
     "text": [
      "Min/Max/Mean days to exit, 1999: 224/5452/3767\n",
      "Min/Max/Mean days to exit, 2000: 291/5093/3497\n",
      "Min/Max/Mean days to exit, 2001: 207/4720/3196\n",
      "Min/Max/Mean days to exit, 2002: 325/4360/2924\n",
      "Min/Max/Mean days to exit, 2003: 611/3995/2625\n",
      "Min/Max/Mean days to exit, 2004: 425/3610/2393\n",
      "Min/Max/Mean days to exit, 2005: 31/3259/2045\n",
      "Min/Max/Mean days to exit, 2006: 212/2894/1732\n",
      "Min/Max/Mean days to exit, 2007: 67/2534/1451\n",
      "Min/Max/Mean days to exit, 2008: 29/2156/1268\n",
      "Min/Max/Mean days to exit, 2009: 18/1804/1037\n",
      "Min/Max/Mean days to exit, 2010: 59/1436/783\n",
      "Min/Max/Mean days to exit, 2011: 107/1068/670\n",
      "Min/Max/Mean days to exit, 2012: 31/696/411\n",
      "Min/Max/Mean days to exit, 2013: 66/335/163\n"
     ]
    }
   ],
   "source": [
    "for i in range(1999,2014,1):\n",
    "    print('Min/Max/Mean days to exit, %s: %d/%d/%d' %(i,exitdata.days_to_exit[exitdata.year_founded == i].min(),exitdata.days_to_exit[exitdata.year_founded == i].max(),exitdata.days_to_exit[exitdata.year_founded == i].mean()))"
   ]
  },
  {
   "cell_type": "code",
   "execution_count": 82,
   "metadata": {},
   "outputs": [
    {
     "name": "stdout",
     "output_type": "stream",
     "text": [
      "Min/Max/Mean days to close, 1999: 731/5370/4187\n",
      "Min/Max/Mean days to close, 2000: 1704/4930/3907\n",
      "Min/Max/Mean days to close, 2001: 2164/4503/3571\n",
      "Min/Max/Mean days to close, 2002: 1705/4246/3276\n",
      "Min/Max/Mean days to close, 2003: 1096/3874/2988\n",
      "Min/Max/Mean days to close, 2004: 366/3500/2552\n",
      "Min/Max/Mean days to close, 2005: 365/3153/2265\n",
      "Min/Max/Mean days to close, 2006: 334/2789/1842\n",
      "Min/Max/Mean days to close, 2007: 13/2422/1335\n",
      "Min/Max/Mean days to close, 2008: 52/2089/1106\n",
      "Min/Max/Mean days to close, 2009: 48/1730/920\n",
      "Min/Max/Mean days to close, 2010: 2/1369/769\n",
      "Min/Max/Mean days to close, 2011: 14/993/546\n",
      "Min/Max/Mean days to close, 2012: 54/690/360\n",
      "Min/Max/Mean days to close, 2013: 27/413/166\n"
     ]
    }
   ],
   "source": [
    "for i in range(1999,2014,1):\n",
    "    print('Min/Max/Mean days to close, %s: %d/%d/%d' %(i,closed.days_to_close[closed.founded_year == i].min(),closed.days_to_close[closed.founded_year == i].max(),closed.days_to_close[closed.founded_year == i].mean()))"
   ]
  },
  {
   "cell_type": "markdown",
   "metadata": {},
   "source": [
    "#### Combine mean days to exit and close by year into one table"
   ]
  },
  {
   "cell_type": "code",
   "execution_count": 108,
   "metadata": {},
   "outputs": [
    {
     "name": "stdout",
     "output_type": "stream",
     "text": [
      "[224, 291, 207, 325, 611, 425, 31, 212, 67, 29, 18, 59, 107, 31, 66]\n",
      "[5452, 5093, 4720, 4360, 3995, 3610, 3259, 2894, 2534, 2156, 1804, 1436, 1068, 696, 335]\n",
      "[3767.159420289855, 3497.794425087108, 3196.4606299212596, 2924.247058823529, 2625.7172995780593, 2393.766129032258, 2045.9892857142856, 1732.662613981763, 1451.8395061728395, 1268.0034722222222, 1037.3903345724907, 783.7782258064516, 670.0785340314136, 411.1506849315069, 163.75]\n"
     ]
    }
   ],
   "source": [
    "minexit = []\n",
    "maxexit = []\n",
    "meanexit = []\n",
    "for i in range(1999, 2014,1):\n",
    "    \n",
    "    minexit.append(exitdata.days_to_exit[exitdata.year_founded == i].min())\n",
    "        \n",
    "    maxexit.append(exitdata.days_to_exit[exitdata.year_founded == i].max())\n",
    "        \n",
    "    meanexit.append(exitdata.days_to_exit[exitdata.year_founded == i].mean())\n",
    "\n",
    "print(minexit)\n",
    "print(maxexit)\n",
    "print(meanexit)"
   ]
  },
  {
   "cell_type": "code",
   "execution_count": 118,
   "metadata": {},
   "outputs": [
    {
     "name": "stdout",
     "output_type": "stream",
     "text": [
      "[1999, 2000, 2001, 2002, 2003, 2004, 2005, 2006, 2007, 2008, 2009, 2010, 2011, 2012, 2013]\n",
      "[731, 1704, 2164, 1705, 1096, 366, 365, 334, 13, 52, 48, 2, 14, 54, 27]\n",
      "[5370, 4930, 4503, 4246, 3874, 3500, 3153, 2789, 2422, 2089, 1730, 1369, 993, 690, 413]\n",
      "[4187.551724137931, 3907.7179487179487, 3571.1428571428573, 3276.2972972972975, 2988.3050847457625, 2552.5753424657532, 2265.9578947368423, 1842.4285714285713, 1335.0, 1106.537906137184, 920.439024390244, 769.1267605633802, 546.2237442922375, 360.0657894736842, 166.93333333333334]\n"
     ]
    }
   ],
   "source": [
    "minclose = []\n",
    "maxclose = []\n",
    "meanclose = []\n",
    "years = []\n",
    "for i in range(1999, 2014,1):\n",
    "    \n",
    "    minclose.append(closed.days_to_close[closed.founded_year == i].min())\n",
    "        \n",
    "    maxclose.append(closed.days_to_close[closed.founded_year == i].max())\n",
    "        \n",
    "    meanclose.append(closed.days_to_close[closed.founded_year == i].mean())\n",
    "    \n",
    "    years.append(i)\n",
    "\n",
    "print(years)    \n",
    "print(minclose)\n",
    "print(maxclose)\n",
    "print(meanclose)"
   ]
  },
  {
   "cell_type": "code",
   "execution_count": 119,
   "metadata": {},
   "outputs": [
    {
     "name": "stdout",
     "output_type": "stream",
     "text": [
      "year mean dates till close mean dates till exit\n",
      "---- --------------------- --------------------\n",
      "1999     4187.551724137931    3767.159420289855\n",
      "2000    3907.7179487179487    3497.794425087108\n",
      "2001    3571.1428571428573   3196.4606299212596\n",
      "2002    3276.2972972972975    2924.247058823529\n",
      "2003    2988.3050847457625   2625.7172995780593\n",
      "2004    2552.5753424657532    2393.766129032258\n",
      "2005    2265.9578947368423   2045.9892857142856\n",
      "2006    1842.4285714285713    1732.662613981763\n",
      "2007                1335.0   1451.8395061728395\n",
      "2008     1106.537906137184   1268.0034722222222\n",
      "2009      920.439024390244   1037.3903345724907\n",
      "2010     769.1267605633802    783.7782258064516\n",
      "2011     546.2237442922375    670.0785340314136\n",
      "2012     360.0657894736842    411.1506849315069\n",
      "2013    166.93333333333334               163.75\n"
     ]
    }
   ],
   "source": [
    "t = Table()\n",
    "t.add_column(Column(name = 'year',data = years))\n",
    "t.add_column(Column(name = 'mean dates till close',data = meanclose))\n",
    "t.add_column(Column(name = 'mean dates till exit',data = meanexit))\n",
    "print(t)"
   ]
  },
  {
   "cell_type": "markdown",
   "metadata": {},
   "source": [
    "#### Find min/max/mean funding amounts for exited and closed companies, for each year"
   ]
  },
  {
   "cell_type": "code",
   "execution_count": 84,
   "metadata": {},
   "outputs": [
    {
     "name": "stdout",
     "output_type": "stream",
     "text": [
      "Min/Max/Mean total funding amount, 1999: 0/219378750/10976353\n",
      "Min/Max/Mean total funding amount, 2000: 0/238209999/12655947\n",
      "Min/Max/Mean total funding amount, 2001: 0/502860000/11722912\n",
      "Min/Max/Mean total funding amount, 2002: 0/283929977/12369438\n",
      "Min/Max/Mean total funding amount, 2003: 0/5700000000/40302459\n",
      "Min/Max/Mean total funding amount, 2004: 0/2425700000/28994264\n",
      "Min/Max/Mean total funding amount, 2005: 0/575000000/20053680\n",
      "Min/Max/Mean total funding amount, 2006: 0/1160166511/20004849\n",
      "Min/Max/Mean total funding amount, 2007: 0/860213000/14035675\n",
      "Min/Max/Mean total funding amount, 2008: 0/1147288416/9270245\n",
      "Min/Max/Mean total funding amount, 2009: 0/356962756/4340144\n",
      "Min/Max/Mean total funding amount, 2010: 0/258462423/5056758\n",
      "Min/Max/Mean total funding amount, 2011: 0/52588928/1391362\n",
      "Min/Max/Mean total funding amount, 2012: 0/4400000/297849\n",
      "Min/Max/Mean total funding amount, 2013: 0/248000000/20666666\n"
     ]
    }
   ],
   "source": [
    "for i in range(1999,2014,1):\n",
    "    print('Min/Max/Mean total funding amount, %s: %d/%d/%d' %(i,exitdata.funding_total_usd[exitdata.year_founded == i].min(),exitdata.funding_total_usd[exitdata.year_founded == i].max(),exitdata.funding_total_usd[exitdata.year_founded == i].mean()))"
   ]
  },
  {
   "cell_type": "code",
   "execution_count": 83,
   "metadata": {},
   "outputs": [
    {
     "name": "stdout",
     "output_type": "stream",
     "text": [
      "Min/Max/Mean total funding amount, 1999: 0/50000000/18809649\n",
      "Min/Max/Mean total funding amount, 2000: 0/148000000/19948475\n",
      "Min/Max/Mean total funding amount, 2001: 0/98170000/15015413\n",
      "Min/Max/Mean total funding amount, 2002: 0/158700000/15126017\n",
      "Min/Max/Mean total funding amount, 2003: 0/49600000/11610918\n",
      "Min/Max/Mean total funding amount, 2004: 0/118500000/13594051\n",
      "Min/Max/Mean total funding amount, 2005: 0/211403000/10571269\n",
      "Min/Max/Mean total funding amount, 2006: 0/125000000/5714046\n",
      "Min/Max/Mean total funding amount, 2007: 0/510000000/3743170\n",
      "Min/Max/Mean total funding amount, 2008: 0/55600000/1827522\n",
      "Min/Max/Mean total funding amount, 2009: 0/170604000/1171306\n",
      "Min/Max/Mean total funding amount, 2010: 0/100000000/1419459\n",
      "Min/Max/Mean total funding amount, 2011: 0/6000000/303367\n",
      "Min/Max/Mean total funding amount, 2012: 0/1500000/126322\n",
      "Min/Max/Mean total funding amount, 2013: 0/125000/12686\n"
     ]
    }
   ],
   "source": [
    "for i in range(1999,2014,1):\n",
    "    print('Min/Max/Mean total funding amount, %s: %d/%d/%d' %(i,closed.funding_total_usd[closed.founded_year == i].min(),closed.funding_total_usd[closed.founded_year == i].max(),closed.funding_total_usd[closed.founded_year == i].mean()))"
   ]
  },
  {
   "cell_type": "markdown",
   "metadata": {},
   "source": [
    "#### Combine funding amounts for exited and closed by year into one table"
   ]
  },
  {
   "cell_type": "code",
   "execution_count": 120,
   "metadata": {},
   "outputs": [
    {
     "name": "stdout",
     "output_type": "stream",
     "text": [
      "[0.0, 0.0, 0.0, 0.0, 0.0, 0.0, 0.0, 0.0, 0.0, 0.0, 0.0, 0.0, 0.0, 0.0, 0.0]\n",
      "[219378750.0, 238209999.0, 502860000.0, 283929977.0, 5700000000.0, 2425700000.0, 575000000.0, 1160166511.0, 860213000.0, 1147288416.0, 356962756.0, 258462423.0, 52588928.0, 4400000.0, 248000000.0]\n",
      "[10976353.513043478, 12655947.731707318, 11722912.141732283, 12369438.85490196, 40302459.729957804, 28994264.01612903, 20053680.675, 20004849.893617023, 14035675.01234568, 9270245.888888888, 4340144.695167286, 5056758.306451613, 1391362.1570680628, 297849.31506849313, 20666666.666666668]\n"
     ]
    }
   ],
   "source": [
    "minfundexit = []\n",
    "maxfundexit = []\n",
    "meanfundexit = []\n",
    "for i in range(1999, 2014,1):\n",
    "    \n",
    "    minfundexit.append(exitdata.funding_total_usd[exitdata.year_founded == i].min())\n",
    "        \n",
    "    maxfundexit.append(exitdata.funding_total_usd[exitdata.year_founded == i].max())\n",
    "        \n",
    "    meanfundexit.append(exitdata.funding_total_usd[exitdata.year_founded == i].mean())\n",
    "\n",
    "print(minfundexit)\n",
    "print(maxfundexit)\n",
    "print(meanfundexit)"
   ]
  },
  {
   "cell_type": "code",
   "execution_count": 121,
   "metadata": {},
   "outputs": [
    {
     "name": "stdout",
     "output_type": "stream",
     "text": [
      "[0, 0, 0, 0, 0, 0, 0, 0, 0, 0, 0, 0, 0, 0, 0]\n",
      "[50000000, 148000000, 98170000, 158700000, 49600000, 118500000, 211403000, 125000000, 510000000, 55600000, 170604000, 100000000, 6000000, 1500000, 125000]\n",
      "[18809649.344827585, 19948475.025641024, 15015413.285714285, 15126017.216216216, 11610918.830508474, 13594051.465753425, 10571269.957894737, 5714046.553571428, 3743170.104529617, 1827522.487364621, 1171306.3379790941, 1419459.116197183, 303367.72146118723, 126322.31578947368, 12686.666666666666]\n"
     ]
    }
   ],
   "source": [
    "minfundclose = []\n",
    "maxfundclose = []\n",
    "meanfundclose = []\n",
    "for i in range(1999, 2014,1):\n",
    "    \n",
    "    minfundclose.append(closed.funding_total_usd[closed.founded_year == i].min())\n",
    "        \n",
    "    maxfundclose.append(closed.funding_total_usd[closed.founded_year == i].max())\n",
    "        \n",
    "    meanfundclose.append(closed.funding_total_usd[closed.founded_year == i].mean())\n",
    "\n",
    "print(minfundclose)\n",
    "print(maxfundclose)\n",
    "print(meanfundclose)"
   ]
  },
  {
   "cell_type": "code",
   "execution_count": 124,
   "metadata": {},
   "outputs": [
    {
     "name": "stdout",
     "output_type": "stream",
     "text": [
      "year mean funding when closed mean funding when exited\n",
      "---- ------------------------ ------------------------\n",
      "1999       18809649.344827585       10976353.513043478\n",
      "2000       19948475.025641024       12655947.731707318\n",
      "2001       15015413.285714285       11722912.141732283\n",
      "2002       15126017.216216216        12369438.85490196\n",
      "2003       11610918.830508474       40302459.729957804\n",
      "2004       13594051.465753425        28994264.01612903\n",
      "2005       10571269.957894737             20053680.675\n",
      "2006        5714046.553571428       20004849.893617023\n",
      "2007        3743170.104529617        14035675.01234568\n",
      "2008        1827522.487364621        9270245.888888888\n",
      "2009       1171306.3379790941        4340144.695167286\n",
      "2010        1419459.116197183        5056758.306451613\n",
      "2011       303367.72146118723       1391362.1570680628\n",
      "2012       126322.31578947368       297849.31506849313\n",
      "2013       12686.666666666666       20666666.666666668\n"
     ]
    }
   ],
   "source": [
    "t = Table()\n",
    "t.add_column(Column(name = 'year',data = years))\n",
    "t.add_column(Column(name = 'mean funding when closed',data = meanfundclose))\n",
    "t.add_column(Column(name = 'mean funding when exited',data = meanfundexit))\n",
    "print(t)"
   ]
  },
  {
   "cell_type": "markdown",
   "metadata": {},
   "source": [
    "## 1999-2003"
   ]
  },
  {
   "cell_type": "markdown",
   "metadata": {},
   "source": [
    "### Days to Exit"
   ]
  },
  {
   "cell_type": "code",
   "execution_count": 63,
   "metadata": {},
   "outputs": [
    {
     "name": "stderr",
     "output_type": "stream",
     "text": [
      "C:\\Users\\Jeff Glupker\\Anaconda3\\lib\\site-packages\\matplotlib\\axes\\_axes.py:6462: UserWarning: The 'normed' kwarg is deprecated, and has been replaced by the 'density' kwarg.\n",
      "  warnings.warn(\"The 'normed' kwarg is deprecated, and has been \"\n"
     ]
    },
    {
     "data": {
      "text/plain": [
       "<matplotlib.axes._subplots.AxesSubplot at 0x29c85545588>"
      ]
     },
     "execution_count": 63,
     "metadata": {},
     "output_type": "execute_result"
    },
    {
     "data": {
      "image/png": "[encoded data removed]",
      "text/plain": [
       "<Figure size 576x432 with 1 Axes>"
      ]
     },
     "metadata": {},
     "output_type": "display_data"
    }
   ],
   "source": [
    "ax_dims = (8, 6)\n",
    "f, ax = plt.subplots(figsize=ax_dims)\n",
    "sns.distplot(exitdata.days_to_exit[(exitdata.year_founded >= 1999) & (exitdata.year_founded <= 2003)])"
   ]
  },
  {
   "cell_type": "markdown",
   "metadata": {},
   "source": [
    "### Funding total (Exited companies)"
   ]
  },
  {
   "cell_type": "code",
   "execution_count": 98,
   "metadata": {},
   "outputs": [
    {
     "name": "stderr",
     "output_type": "stream",
     "text": [
      "C:\\Users\\Jeff Glupker\\Anaconda3\\lib\\site-packages\\matplotlib\\axes\\_axes.py:6462: UserWarning: The 'normed' kwarg is deprecated, and has been replaced by the 'density' kwarg.\n",
      "  warnings.warn(\"The 'normed' kwarg is deprecated, and has been \"\n"
     ]
    },
    {
     "data": {
      "text/plain": [
       "<matplotlib.axes._subplots.AxesSubplot at 0x29c88542cc0>"
      ]
     },
     "execution_count": 98,
     "metadata": {},
     "output_type": "execute_result"
    },
    {
     "data": {
      "image/png": "[encoded data removed]",
      "text/plain": [
       "<Figure size 576x432 with 1 Axes>"
      ]
     },
     "metadata": {},
     "output_type": "display_data"
    }
   ],
   "source": [
    "ax_dims = (8, 6)\n",
    "f, ax = plt.subplots(figsize=ax_dims)\n",
    "sns.distplot(exitdata.funding_total_usd[(exitdata.year_founded >= 1999) & (exitdata.year_founded <= 2003)])"
   ]
  },
  {
   "cell_type": "markdown",
   "metadata": {},
   "source": [
    "### Days to Close"
   ]
  },
  {
   "cell_type": "code",
   "execution_count": 64,
   "metadata": {},
   "outputs": [
    {
     "name": "stderr",
     "output_type": "stream",
     "text": [
      "C:\\Users\\Jeff Glupker\\Anaconda3\\lib\\site-packages\\matplotlib\\axes\\_axes.py:6462: UserWarning: The 'normed' kwarg is deprecated, and has been replaced by the 'density' kwarg.\n",
      "  warnings.warn(\"The 'normed' kwarg is deprecated, and has been \"\n"
     ]
    },
    {
     "data": {
      "text/plain": [
       "<matplotlib.axes._subplots.AxesSubplot at 0x29c8540d400>"
      ]
     },
     "execution_count": 64,
     "metadata": {},
     "output_type": "execute_result"
    },
    {
     "data": {
      "image/png": "[encoded data removed]",
      "text/plain": [
       "<Figure size 576x432 with 1 Axes>"
      ]
     },
     "metadata": {},
     "output_type": "display_data"
    }
   ],
   "source": [
    "ax_dims = (8, 6)\n",
    "f, ax = plt.subplots(figsize=ax_dims)\n",
    "sns.distplot(closed.days_to_close[(closed.founded_year >= 1999) & (closed.founded_year <= 2003)])"
   ]
  },
  {
   "cell_type": "markdown",
   "metadata": {},
   "source": [
    "### Funding Total (Closed Companies)"
   ]
  },
  {
   "cell_type": "code",
   "execution_count": 71,
   "metadata": {},
   "outputs": [
    {
     "name": "stderr",
     "output_type": "stream",
     "text": [
      "C:\\Users\\Jeff Glupker\\Anaconda3\\lib\\site-packages\\matplotlib\\axes\\_axes.py:6462: UserWarning: The 'normed' kwarg is deprecated, and has been replaced by the 'density' kwarg.\n",
      "  warnings.warn(\"The 'normed' kwarg is deprecated, and has been \"\n"
     ]
    },
    {
     "data": {
      "text/plain": [
       "<matplotlib.axes._subplots.AxesSubplot at 0x29c8575bf60>"
      ]
     },
     "execution_count": 71,
     "metadata": {},
     "output_type": "execute_result"
    },
    {
     "data": {
      "image/png": "[encoded data removed]",
      "text/plain": [
       "<Figure size 576x432 with 1 Axes>"
      ]
     },
     "metadata": {},
     "output_type": "display_data"
    }
   ],
   "source": [
    "ax_dims = (8, 6)\n",
    "f, ax = plt.subplots(figsize=ax_dims)\n",
    "sns.distplot(closed.funding_total_usd[(closed.founded_year >= 1999) & (closed.founded_year <= 2003)])"
   ]
  },
  {
   "cell_type": "markdown",
   "metadata": {},
   "source": [
    "## 2004-2008"
   ]
  },
  {
   "cell_type": "markdown",
   "metadata": {},
   "source": [
    "### Days to Exit"
   ]
  },
  {
   "cell_type": "code",
   "execution_count": 96,
   "metadata": {},
   "outputs": [
    {
     "name": "stderr",
     "output_type": "stream",
     "text": [
      "C:\\Users\\Jeff Glupker\\Anaconda3\\lib\\site-packages\\matplotlib\\axes\\_axes.py:6462: UserWarning: The 'normed' kwarg is deprecated, and has been replaced by the 'density' kwarg.\n",
      "  warnings.warn(\"The 'normed' kwarg is deprecated, and has been \"\n"
     ]
    },
    {
     "data": {
      "text/plain": [
       "<matplotlib.axes._subplots.AxesSubplot at 0x29c88461b70>"
      ]
     },
     "execution_count": 96,
     "metadata": {},
     "output_type": "execute_result"
    },
    {
     "data": {
      "image/png": "[encoded data removed]",
      "text/plain": [
       "<Figure size 576x432 with 1 Axes>"
      ]
     },
     "metadata": {},
     "output_type": "display_data"
    }
   ],
   "source": [
    "ax_dims = (8, 6)\n",
    "f, ax = plt.subplots(figsize=ax_dims)\n",
    "sns.distplot(exitdata.days_to_exit[(exitdata.year_founded >= 2004) & (exitdata.year_founded <= 2008)])"
   ]
  },
  {
   "cell_type": "markdown",
   "metadata": {},
   "source": [
    "### Funding total (Exited companies)"
   ]
  },
  {
   "cell_type": "code",
   "execution_count": 99,
   "metadata": {},
   "outputs": [
    {
     "name": "stderr",
     "output_type": "stream",
     "text": [
      "C:\\Users\\Jeff Glupker\\Anaconda3\\lib\\site-packages\\matplotlib\\axes\\_axes.py:6462: UserWarning: The 'normed' kwarg is deprecated, and has been replaced by the 'density' kwarg.\n",
      "  warnings.warn(\"The 'normed' kwarg is deprecated, and has been \"\n"
     ]
    },
    {
     "data": {
      "text/plain": [
       "<matplotlib.axes._subplots.AxesSubplot at 0x29c88568fd0>"
      ]
     },
     "execution_count": 99,
     "metadata": {},
     "output_type": "execute_result"
    },
    {
     "data": {
      "image/png": "[encoded data removed]",
      "text/plain": [
       "<Figure size 576x432 with 1 Axes>"
      ]
     },
     "metadata": {},
     "output_type": "display_data"
    }
   ],
   "source": [
    "ax_dims = (8, 6)\n",
    "f, ax = plt.subplots(figsize=ax_dims)\n",
    "sns.distplot(exitdata.funding_total_usd[(exitdata.year_founded >= 2004) & (exitdata.year_founded <= 2008)])"
   ]
  },
  {
   "cell_type": "markdown",
   "metadata": {},
   "source": [
    "### Days to Close"
   ]
  },
  {
   "cell_type": "code",
   "execution_count": 101,
   "metadata": {},
   "outputs": [
    {
     "name": "stderr",
     "output_type": "stream",
     "text": [
      "C:\\Users\\Jeff Glupker\\Anaconda3\\lib\\site-packages\\matplotlib\\axes\\_axes.py:6462: UserWarning: The 'normed' kwarg is deprecated, and has been replaced by the 'density' kwarg.\n",
      "  warnings.warn(\"The 'normed' kwarg is deprecated, and has been \"\n"
     ]
    },
    {
     "data": {
      "text/plain": [
       "<matplotlib.axes._subplots.AxesSubplot at 0x29c8864dba8>"
      ]
     },
     "execution_count": 101,
     "metadata": {},
     "output_type": "execute_result"
    },
    {
     "data": {
      "image/png": "[encoded data removed]",
      "text/plain": [
       "<Figure size 576x432 with 1 Axes>"
      ]
     },
     "metadata": {},
     "output_type": "display_data"
    }
   ],
   "source": [
    "ax_dims = (8, 6)\n",
    "f, ax = plt.subplots(figsize=ax_dims)\n",
    "sns.distplot(closed.days_to_close[(closed.founded_year >= 2004) & (closed.founded_year <= 2008)])"
   ]
  },
  {
   "cell_type": "markdown",
   "metadata": {},
   "source": [
    "### Funding Total (Closed Companies)"
   ]
  },
  {
   "cell_type": "code",
   "execution_count": 102,
   "metadata": {},
   "outputs": [
    {
     "name": "stderr",
     "output_type": "stream",
     "text": [
      "C:\\Users\\Jeff Glupker\\Anaconda3\\lib\\site-packages\\matplotlib\\axes\\_axes.py:6462: UserWarning: The 'normed' kwarg is deprecated, and has been replaced by the 'density' kwarg.\n",
      "  warnings.warn(\"The 'normed' kwarg is deprecated, and has been \"\n"
     ]
    },
    {
     "data": {
      "text/plain": [
       "<matplotlib.axes._subplots.AxesSubplot at 0x29c88837a58>"
      ]
     },
     "execution_count": 102,
     "metadata": {},
     "output_type": "execute_result"
    },
    {
     "data": {
      "image/png": "[encoded data removed]",
      "text/plain": [
       "<Figure size 576x432 with 1 Axes>"
      ]
     },
     "metadata": {},
     "output_type": "display_data"
    }
   ],
   "source": [
    "ax_dims = (8, 6)\n",
    "f, ax = plt.subplots(figsize=ax_dims)\n",
    "sns.distplot(closed.funding_total_usd[(closed.founded_year >= 2004) & (closed.founded_year <= 2008)])"
   ]
  },
  {
   "cell_type": "markdown",
   "metadata": {},
   "source": [
    "## 2009-2013"
   ]
  },
  {
   "cell_type": "markdown",
   "metadata": {},
   "source": [
    "### Days to Exit"
   ]
  },
  {
   "cell_type": "code",
   "execution_count": 97,
   "metadata": {},
   "outputs": [
    {
     "name": "stderr",
     "output_type": "stream",
     "text": [
      "C:\\Users\\Jeff Glupker\\Anaconda3\\lib\\site-packages\\matplotlib\\axes\\_axes.py:6462: UserWarning: The 'normed' kwarg is deprecated, and has been replaced by the 'density' kwarg.\n",
      "  warnings.warn(\"The 'normed' kwarg is deprecated, and has been \"\n"
     ]
    },
    {
     "data": {
      "text/plain": [
       "<matplotlib.axes._subplots.AxesSubplot at 0x29c884cd1d0>"
      ]
     },
     "execution_count": 97,
     "metadata": {},
     "output_type": "execute_result"
    },
    {
     "data": {
      "image/png": "[encoded data removed]",
      "text/plain": [
       "<Figure size 576x432 with 1 Axes>"
      ]
     },
     "metadata": {},
     "output_type": "display_data"
    }
   ],
   "source": [
    "ax_dims = (8, 6)\n",
    "f, ax = plt.subplots(figsize=ax_dims)\n",
    "sns.distplot(exitdata.days_to_exit[(exitdata.year_founded >= 2009) & (exitdata.year_founded <= 2013)])"
   ]
  },
  {
   "cell_type": "markdown",
   "metadata": {},
   "source": [
    "### Funding total (Exited companies)"
   ]
  },
  {
   "cell_type": "code",
   "execution_count": 100,
   "metadata": {},
   "outputs": [
    {
     "name": "stderr",
     "output_type": "stream",
     "text": [
      "C:\\Users\\Jeff Glupker\\Anaconda3\\lib\\site-packages\\matplotlib\\axes\\_axes.py:6462: UserWarning: The 'normed' kwarg is deprecated, and has been replaced by the 'density' kwarg.\n",
      "  warnings.warn(\"The 'normed' kwarg is deprecated, and has been \"\n"
     ]
    },
    {
     "data": {
      "text/plain": [
       "<matplotlib.axes._subplots.AxesSubplot at 0x29c861616d8>"
      ]
     },
     "execution_count": 100,
     "metadata": {},
     "output_type": "execute_result"
    },
    {
     "data": {
      "image/png": "[encoded data removed]",
      "text/plain": [
       "<Figure size 576x432 with 1 Axes>"
      ]
     },
     "metadata": {},
     "output_type": "display_data"
    }
   ],
   "source": [
    "ax_dims = (8, 6)\n",
    "f, ax = plt.subplots(figsize=ax_dims)\n",
    "sns.distplot(exitdata.funding_total_usd[(exitdata.year_founded >= 2009) & (exitdata.year_founded <= 2013)])"
   ]
  },
  {
   "cell_type": "markdown",
   "metadata": {},
   "source": [
    "### Days to Close"
   ]
  },
  {
   "cell_type": "code",
   "execution_count": 103,
   "metadata": {},
   "outputs": [
    {
     "name": "stderr",
     "output_type": "stream",
     "text": [
      "C:\\Users\\Jeff Glupker\\Anaconda3\\lib\\site-packages\\matplotlib\\axes\\_axes.py:6462: UserWarning: The 'normed' kwarg is deprecated, and has been replaced by the 'density' kwarg.\n",
      "  warnings.warn(\"The 'normed' kwarg is deprecated, and has been \"\n"
     ]
    },
    {
     "data": {
      "text/plain": [
       "<matplotlib.axes._subplots.AxesSubplot at 0x29c88861fd0>"
      ]
     },
     "execution_count": 103,
     "metadata": {},
     "output_type": "execute_result"
    },
    {
     "data": {
      "image/png": "[encoded data removed]",
      "text/plain": [
       "<Figure size 576x432 with 1 Axes>"
      ]
     },
     "metadata": {},
     "output_type": "display_data"
    }
   ],
   "source": [
    "ax_dims = (8, 6)\n",
    "f, ax = plt.subplots(figsize=ax_dims)\n",
    "sns.distplot(closed.days_to_close[(closed.founded_year >= 2009) & (closed.founded_year <= 2013)])"
   ]
  },
  {
   "cell_type": "markdown",
   "metadata": {},
   "source": [
    "### Funding Total (Closed Companies)"
   ]
  },
  {
   "cell_type": "code",
   "execution_count": 104,
   "metadata": {},
   "outputs": [
    {
     "name": "stderr",
     "output_type": "stream",
     "text": [
      "C:\\Users\\Jeff Glupker\\Anaconda3\\lib\\site-packages\\matplotlib\\axes\\_axes.py:6462: UserWarning: The 'normed' kwarg is deprecated, and has been replaced by the 'density' kwarg.\n",
      "  warnings.warn(\"The 'normed' kwarg is deprecated, and has been \"\n"
     ]
    },
    {
     "data": {
      "text/plain": [
       "<matplotlib.axes._subplots.AxesSubplot at 0x29c8897c828>"
      ]
     },
     "execution_count": 104,
     "metadata": {},
     "output_type": "execute_result"
    },
    {
     "data": {
      "image/png": "[encoded data removed]",
      "text/plain": [
       "<Figure size 576x432 with 1 Axes>"
      ]
     },
     "metadata": {},
     "output_type": "display_data"
    }
   ],
   "source": [
    "ax_dims = (8, 6)\n",
    "f, ax = plt.subplots(figsize=ax_dims)\n",
    "sns.distplot(closed.funding_total_usd[(closed.founded_year >= 2009) & (closed.founded_year <= 2013)])"
   ]
  },
  {
   "cell_type": "code",
   "execution_count": null,
   "metadata": {},
   "outputs": [],
   "source": []
  },
  {
   "cell_type": "code",
   "execution_count": null,
   "metadata": {},
   "outputs": [],
   "source": []
  },
  {
   "cell_type": "code",
   "execution_count": null,
   "metadata": {},
   "outputs": [],
   "source": []
  },
  {
   "cell_type": "code",
   "execution_count": null,
   "metadata": {},
   "outputs": [],
   "source": []
  }
 ],
 "metadata": {
  "kernelspec": {
   "display_name": "Python 3",
   "language": "python",
   "name": "python3"
  },
  "language_info": {
   "codemirror_mode": {
    "name": "ipython",
    "version": 3
   },
   "file_extension": ".py",
   "mimetype": "text/x-python",
   "name": "python",
   "nbconvert_exporter": "python",
   "pygments_lexer": "ipython3",
   "version": "3.6.5"
  }
 },
 "nbformat": 4,
 "nbformat_minor": 2
}
